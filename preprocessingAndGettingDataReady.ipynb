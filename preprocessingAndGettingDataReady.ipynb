{
 "cells": [
  {
   "cell_type": "code",
   "execution_count": 4,
   "metadata": {},
   "outputs": [
    {
     "name": "stdout",
     "output_type": "stream",
     "text": [
      "\u001b[33mDEPRECATION: Loading egg at /home/ahmadsameh8/anaconda3/lib/python3.11/site-packages/translators-5.9.1-py3.11.egg is deprecated. pip 24.3 will enforce this behaviour change. A possible replacement is to use pip for package installation.. Discussion can be found at https://github.com/pypa/pip/issues/12330\u001b[0m\u001b[33m\n",
      "\u001b[0mCollecting PyArabic\n",
      "  Downloading PyArabic-0.6.15-py3-none-any.whl.metadata (10 kB)\n",
      "Requirement already satisfied: six>=1.14.0 in /home/ahmadsameh8/anaconda3/lib/python3.11/site-packages (from PyArabic) (1.16.0)\n",
      "Downloading PyArabic-0.6.15-py3-none-any.whl (126 kB)\n",
      "\u001b[2K   \u001b[90m━━━━━━━━━━━━━━━━━━━━━━━━━━━━━━━━━━━━━━━\u001b[0m \u001b[32m126.4/126.4 kB\u001b[0m \u001b[31m873.1 kB/s\u001b[0m eta \u001b[36m0:00:00\u001b[0ma \u001b[36m0:00:01\u001b[0m\n",
      "\u001b[?25hInstalling collected packages: PyArabic\n",
      "Successfully installed PyArabic-0.6.15\n",
      "\n",
      "\u001b[1m[\u001b[0m\u001b[34;49mnotice\u001b[0m\u001b[1;39;49m]\u001b[0m\u001b[39;49m A new release of pip is available: \u001b[0m\u001b[31;49m24.0\u001b[0m\u001b[39;49m -> \u001b[0m\u001b[32;49m24.2\u001b[0m\n",
      "\u001b[1m[\u001b[0m\u001b[34;49mnotice\u001b[0m\u001b[1;39;49m]\u001b[0m\u001b[39;49m To update, run: \u001b[0m\u001b[32;49mpip install --upgrade pip\u001b[0m\n"
     ]
    }
   ],
   "source": [
    "!pip install PyArabic"
   ]
  },
  {
   "cell_type": "code",
   "execution_count": 5,
   "metadata": {},
   "outputs": [],
   "source": [
    "import pyarabic.araby as araby\n",
    "import pandas as pd\n",
    "import numpy as np\n",
    "from datasets import DatasetDict, Dataset\n",
    "import re"
   ]
  },
  {
   "cell_type": "code",
   "execution_count": 6,
   "metadata": {},
   "outputs": [],
   "source": [
    "dataset = pd.read_csv(\"MergedDataset.csv\")\n"
   ]
  },
  {
   "cell_type": "markdown",
   "metadata": {},
   "source": [
    "# preprocessing of the dataset"
   ]
  },
  {
   "cell_type": "code",
   "execution_count": 7,
   "metadata": {},
   "outputs": [],
   "source": [
    "class preprocessing:\n",
    "    import re\n",
    "\n",
    "    def clean_text(text):\n",
    "        \"\"\"Cleans text by removing English characters, mentions, URLs, and hashtags (except those with trailing characters), while preserving whitespace.\"\"\"\n",
    "        # cleaned_text = re.sub(r'[@A-Za-z]+|#[^\\s]+|http\\S+|@[^\\s]+|\\^[^ ]+', '', text)\n",
    "        \n",
    "        cleaned_text = re.sub(r'[@A-Za-z]+|#[^\\s]+|http\\S+|@[^\\s]+|\\^[^ ]+|\\W+', ' ', text)\n",
    "        \n",
    "        \n",
    "        return cleaned_text\n",
    "\n",
    "\n",
    "    def normalize(text):\n",
    "        '''\n",
    "        Argument:\n",
    "            string of words\n",
    "        return:\n",
    "            string of words but standardize the words\n",
    "        '''\n",
    "\n",
    "        text = text.strip()\n",
    "        text = re.sub(\"[إأٱآا]\", \"ا\", text)\n",
    "        # text = re.sub(\"ى\", \"ي\", text)\n",
    "        # text = re.sub(\"ؤ\", \"ء\", text)\n",
    "        # text = re.sub(\"ئ\", \"ء\", text)\n",
    "        # text = re.sub(\"ة\", \"ه\", text)\n",
    "        noise = re.compile(\"\"\" ّ    | # Tashdid\n",
    "                             َ    | # Fatha\n",
    "                             ً    | # Tanwin Fath\n",
    "                             ُ    | # Damma\n",
    "                             ٌ    | # Tanwin Damm\n",
    "                             ِ    | # Kasra\n",
    "                             ٍ    | # Tanwin Kasr\n",
    "                             ْ    | # Sukun\n",
    "                             ـ     # Tatwil/Kashida\n",
    "                         \"\"\", re.VERBOSE)\n",
    "        text = re.sub(noise, '', text)\n",
    "        text = re.sub(r'(.)\\1+', r\"\\1\\1\", text) # Remove longation\n",
    "        return araby.strip_tashkeel(text)\n",
    "        \n",
    "    \n",
    "    def preprocess(sentence):\n",
    "        '''\n",
    "        Argument:\n",
    "            string of words\n",
    "        return:\n",
    "            string of words after cleaning\n",
    "        '''\n",
    "        clean = preprocessing.clean_text(sentence)\n",
    "        clean = preprocessing.normalize(clean)\n",
    "        return clean\n"
   ]
  },
  {
   "cell_type": "code",
   "execution_count": 8,
   "metadata": {},
   "outputs": [],
   "source": [
    "dataset[\"correct\"] = dataset[\"correct\"].apply(preprocessing.preprocess)\n",
    "dataset[\"incorrect\"] = dataset[\"incorrect\"].apply(preprocessing.preprocess)\n"
   ]
  },
  {
   "cell_type": "markdown",
   "metadata": {},
   "source": [
    "# Converting the dataset to a hugging face Object\n"
   ]
  },
  {
   "cell_type": "code",
   "execution_count": null,
   "metadata": {},
   "outputs": [],
   "source": [
    "dataset_dict = {\n",
    "    'correct': dataset[\"correct\"].tolist(),\n",
    "    'incorrect': dataset['incorrect'].tolist()\n",
    "}\n",
    "dataset_dict"
   ]
  },
  {
   "cell_type": "code",
   "execution_count": 37,
   "metadata": {},
   "outputs": [
    {
     "data": {
      "text/plain": [
       "Dataset({\n",
       "    features: ['correct', 'incorrect'],\n",
       "    num_rows: 22938\n",
       "})"
      ]
     },
     "execution_count": 37,
     "metadata": {},
     "output_type": "execute_result"
    }
   ],
   "source": [
    "\n",
    "hf_dataset = Dataset.from_dict(dataset_dict)\n",
    "hf_dataset\n"
   ]
  },
  {
   "cell_type": "code",
   "execution_count": 38,
   "metadata": {},
   "outputs": [],
   "source": [
    "dataset_size = len(dataset)\n",
    "train_size = int(0.8 * dataset_size)\n",
    "val_size = int(0.1 * dataset_size)\n",
    "test_size = dataset_size - train_size - val_size"
   ]
  },
  {
   "cell_type": "code",
   "execution_count": 39,
   "metadata": {},
   "outputs": [],
   "source": [
    "train_dataset = hf_dataset.select(range(train_size))\n",
    "validation_dataset = hf_dataset.select(range(train_size, train_size + val_size))\n",
    "test_dataset = hf_dataset.select(range(train_size + val_size, len(hf_dataset)))"
   ]
  },
  {
   "cell_type": "code",
   "execution_count": 40,
   "metadata": {},
   "outputs": [
    {
     "name": "stdout",
     "output_type": "stream",
     "text": [
      "Training set size: 18350\n",
      "Validation set size: 2293\n",
      "Testing set size: 2295\n"
     ]
    }
   ],
   "source": [
    "print(\"Training set size:\", train_size)\n",
    "print(\"Validation set size:\", val_size)\n",
    "print(\"Testing set size:\", test_size)\n"
   ]
  },
  {
   "cell_type": "code",
   "execution_count": 41,
   "metadata": {},
   "outputs": [
    {
     "name": "stdout",
     "output_type": "stream",
     "text": [
      "train: Dataset({\n",
      "    features: ['correct', 'incorrect'],\n",
      "    num_rows: 18350\n",
      "})\n",
      "validation: Dataset({\n",
      "    features: ['correct', 'incorrect'],\n",
      "    num_rows: 2293\n",
      "})\n",
      "test: Dataset({\n",
      "    features: ['correct', 'incorrect'],\n",
      "    num_rows: 2295\n",
      "})\n"
     ]
    }
   ],
   "source": [
    "dataset = DatasetDict({\n",
    "    \"train\": train_dataset,\n",
    "    \"validation\": validation_dataset,\n",
    "    \"test\": test_dataset\n",
    "})\n",
    "\n",
    "for split_name, split_dataset in dataset.items():\n",
    "    print(f\"{split_name}: {split_dataset}\")\n",
    "\n",
    "# features = dataset[\"train\"].features\n",
    "# dataset = dataset.map(lambda example: {k: v for k, v in example.items() if k in features})"
   ]
  },
  {
   "cell_type": "code",
   "execution_count": 42,
   "metadata": {},
   "outputs": [
    {
     "name": "stderr",
     "output_type": "stream",
     "text": [
      "                                                                    \r"
     ]
    }
   ],
   "source": [
    "\n",
    "features = dataset[\"train\"].features\n",
    "dataset = dataset.map(lambda example: {k: v for k, v in example.items() if k in features})"
   ]
  },
  {
   "cell_type": "markdown",
   "metadata": {},
   "source": [
    "# Pushing the dataset to hugging face"
   ]
  },
  {
   "cell_type": "code",
   "execution_count": 12,
   "metadata": {},
   "outputs": [
    {
     "name": "stdout",
     "output_type": "stream",
     "text": [
      "Requirement already satisfied: huggingface_hub in /home/ahmadsameh8/anaconda3/envs/textCorrection/lib/python3.11/site-packages (0.22.2)\n",
      "Requirement already satisfied: filelock in /home/ahmadsameh8/anaconda3/envs/textCorrection/lib/python3.11/site-packages (from huggingface_hub) (3.13.3)\n",
      "Requirement already satisfied: fsspec>=2023.5.0 in /home/ahmadsameh8/anaconda3/envs/textCorrection/lib/python3.11/site-packages (from huggingface_hub) (2023.9.2)\n",
      "Requirement already satisfied: packaging>=20.9 in /home/ahmadsameh8/anaconda3/envs/textCorrection/lib/python3.11/site-packages (from huggingface_hub) (24.0)\n",
      "Requirement already satisfied: pyyaml>=5.1 in /home/ahmadsameh8/anaconda3/envs/textCorrection/lib/python3.11/site-packages (from huggingface_hub) (6.0.1)\n",
      "Requirement already satisfied: requests in /home/ahmadsameh8/anaconda3/envs/textCorrection/lib/python3.11/site-packages (from huggingface_hub) (2.31.0)\n",
      "Requirement already satisfied: tqdm>=4.42.1 in /home/ahmadsameh8/anaconda3/envs/textCorrection/lib/python3.11/site-packages (from huggingface_hub) (4.66.2)\n",
      "Requirement already satisfied: typing-extensions>=3.7.4.3 in /home/ahmadsameh8/anaconda3/envs/textCorrection/lib/python3.11/site-packages (from huggingface_hub) (4.11.0)\n",
      "Requirement already satisfied: charset-normalizer<4,>=2 in /home/ahmadsameh8/anaconda3/envs/textCorrection/lib/python3.11/site-packages (from requests->huggingface_hub) (3.3.2)\n",
      "Requirement already satisfied: idna<4,>=2.5 in /home/ahmadsameh8/anaconda3/envs/textCorrection/lib/python3.11/site-packages (from requests->huggingface_hub) (3.6)\n",
      "Requirement already satisfied: urllib3<3,>=1.21.1 in /home/ahmadsameh8/anaconda3/envs/textCorrection/lib/python3.11/site-packages (from requests->huggingface_hub) (2.2.1)\n",
      "Requirement already satisfied: certifi>=2017.4.17 in /home/ahmadsameh8/anaconda3/envs/textCorrection/lib/python3.11/site-packages (from requests->huggingface_hub) (2024.2.2)\n"
     ]
    }
   ],
   "source": [
    "!pip install huggingface_hub\n"
   ]
  },
  {
   "cell_type": "code",
   "execution_count": null,
   "metadata": {},
   "outputs": [],
   "source": [
    "# add hugging face token with access to write\n",
    "# !huggingface-cli login"
   ]
  },
  {
   "cell_type": "code",
   "execution_count": 43,
   "metadata": {},
   "outputs": [
    {
     "name": "stderr",
     "output_type": "stream",
     "text": [
      "Pushing split train to the Hub.\n",
      "Creating parquet from Arrow format: 100%|██████████| 19/19 [00:00<00:00, 447.01ba/s]\n",
      "Pushing dataset shards to the dataset hub: 100%|██████████| 1/1 [00:33<00:00, 33.33s/it]\n",
      "Pushing split validation to the Hub.\n",
      "Creating parquet from Arrow format: 100%|██████████| 3/3 [00:00<00:00, 611.00ba/s]\n",
      "Pushing dataset shards to the dataset hub: 100%|██████████| 1/1 [00:05<00:00,  5.97s/it]\n",
      "Pushing split test to the Hub.\n",
      "Creating parquet from Arrow format: 100%|██████████| 3/3 [00:00<00:00, 493.45ba/s]\n",
      "Pushing dataset shards to the dataset hub: 100%|██████████| 1/1 [00:07<00:00,  7.17s/it]\n"
     ]
    }
   ],
   "source": [
    "dataset.push_to_hub(\"QalbPreprocessedAndMergedwithoutPunct\")"
   ]
  },
  {
   "cell_type": "code",
   "execution_count": null,
   "metadata": {},
   "outputs": [],
   "source": []
  }
 ],
 "metadata": {
  "kernelspec": {
   "display_name": "textCorrection",
   "language": "python",
   "name": "python3"
  },
  "language_info": {
   "codemirror_mode": {
    "name": "ipython",
    "version": 3
   },
   "file_extension": ".py",
   "mimetype": "text/x-python",
   "name": "python",
   "nbconvert_exporter": "python",
   "pygments_lexer": "ipython3",
   "version": "3.11.7"
  }
 },
 "nbformat": 4,
 "nbformat_minor": 2
}
